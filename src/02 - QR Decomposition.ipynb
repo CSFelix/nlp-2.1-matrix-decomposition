{
 "cells": [
  {
   "cell_type": "markdown",
   "id": "4f26927b-84b0-4b8c-ac44-baa10cce7551",
   "metadata": {},
   "source": [
    "<center>    \n",
    "    <h1 id='matrix-decomposition-notebook-2' style='color:#7159c1; font-size:350%'>QR Decomposition</h1>\n",
    "    <i style='font-size:125%'>Breaking Matrices into Blocks</i>\n",
    "</center>\n",
    "\n",
    "> **Topics**\n",
    "\n",
    "```\n",
    "- 🛡️ QR Decomposition\n",
    "```"
   ]
  },
  {
   "cell_type": "code",
   "execution_count": 1,
   "id": "5a5afcab-f655-4e06-8c87-8e5133cd809a",
   "metadata": {},
   "outputs": [],
   "source": [
    "# ---- Imports ----\n",
    "import numpy as np\n",
    "import scipy\n",
    "from IPython.display import HTML\n",
    "\n",
    "# ---- Constants ----\n",
    "VIDEOS_WIDTH = (600)\n",
    "VIDEOS_PATH = ('./videos')\n",
    "\n",
    "# ---- Functions ----\n",
    "def generateVideoEmbed(path, width):\n",
    "    \"\"\"\n",
    "    Generates a string containing a centered video tag with a specific width and video source.\n",
    "\n",
    "    - Input:\n",
    "        / path: string;\n",
    "        / width: float.\n",
    "\n",
    "    - Output:\n",
    "        / video_tag: string.\n",
    "    \"\"\"\n",
    "    video_tag = f'<center><video width=\"{width}\" autoplay controls loop><source src=\"{path}\" type=\"video/mp4\" />Your browser does not support the video tag 😢</video></center>'\n",
    "    return video_tag"
   ]
  },
  {
   "cell_type": "markdown",
   "id": "fe423dfb-52d0-45cc-a0f4-8f23000fc4da",
   "metadata": {},
   "source": [
    "<h1 id='0-qr-decomposition' style='color:#7159c1; border-bottom:3px solid #7159c1; letter-spacing:2px; font-family:JetBrains Mono; font-weight: bold; text-align:left; font-size:240%;padding:0'>🛡️ | QR Decomposition</h1>\n",
    "\n",
    "`QR Decomposition` decomposes any matrix $\\mathbf{A}$ into two ones: $\\mathbf{Q}$ and $\\mathbf{R}$:\n",
    "\n",
    "$$\n",
    "\\mathbf{A} = \\mathbf{Q} \\cdot \\mathbf{R}\n",
    "$$\n",
    "\n",
    "where:\n",
    "\n",
    "- **$\\mathbf{A}$** - `Any Matrix`;\n",
    "\n",
    "- **$\\mathbf{Q}$** - `Orthonormal Matrix`;\n",
    "\n",
    "- **$\\mathbf{R}$ (AKA $\\mathbf{U}$)** - `Upper Triangular Matrix`.\n",
    "\n",
    "In order to explain this decomposition step-by-step, let's go to a hands-on exercise!!"
   ]
  },
  {
   "cell_type": "code",
   "execution_count": null,
   "id": "df99c9e9-7553-48cd-b40a-b909ebb6aff4",
   "metadata": {},
   "outputs": [],
   "source": []
  },
  {
   "cell_type": "code",
   "execution_count": null,
   "id": "cd260c72-a688-42f7-a1da-c7c497e5ac9e",
   "metadata": {},
   "outputs": [],
   "source": []
  },
  {
   "cell_type": "code",
   "execution_count": null,
   "id": "c5af3f16-ba5b-4d06-9e5b-e943d2640b39",
   "metadata": {},
   "outputs": [],
   "source": []
  },
  {
   "cell_type": "code",
   "execution_count": null,
   "id": "65c162ad-c779-4035-85f6-ac50073cb9a5",
   "metadata": {},
   "outputs": [],
   "source": []
  },
  {
   "cell_type": "code",
   "execution_count": null,
   "id": "90dcf895-e536-4ec7-b4e5-1ce137273bb7",
   "metadata": {},
   "outputs": [],
   "source": []
  },
  {
   "cell_type": "code",
   "execution_count": 2,
   "id": "b53c7dc4-b347-4394-b575-bb47e1fa4961",
   "metadata": {},
   "outputs": [
    {
     "data": {
      "text/html": [
       "<center><video width=\"600\" autoplay controls loop><source src=\"./videos/02-QRDecomposition.mp4\" type=\"video/mp4\" />Your browser does not support the video tag 😢</video></center>"
      ],
      "text/plain": [
       "<IPython.core.display.HTML object>"
      ]
     },
     "execution_count": 2,
     "metadata": {},
     "output_type": "execute_result"
    }
   ],
   "source": [
    "# ---- QR Decomposition: Visualization ----\n",
    "HTML(generateVideoEmbed(f'{VIDEOS_PATH}/02-QRDecomposition.mp4', VIDEOS_WIDTH))"
   ]
  },
  {
   "cell_type": "code",
   "execution_count": 4,
   "id": "c63bbd92-d5f6-4c20-9f65-23659f8529a0",
   "metadata": {},
   "outputs": [
    {
     "name": "stdout",
     "output_type": "stream",
     "text": [
      "- A: [[1 2 3]\n",
      " [3 2 1]\n",
      " [2 3 1]]\n",
      "---\n",
      "- Q * R: [[1. 2. 3.]\n",
      " [3. 2. 1.]\n",
      " [2. 3. 1.]]\n",
      "---\n",
      "- Are A and Q * R equal? True\n"
     ]
    }
   ],
   "source": [
    "# ---- QR Decomposition ----\n",
    "A = np.matrix([[1, 2, 3], [3, 2, 1], [2, 3, 1]])\n",
    "Q, R = scipy.linalg.qr(A)\n",
    "Q_dot_R = Q @ R\n",
    "\n",
    "print(f'- A: {A}')\n",
    "print('---')\n",
    "print(f'- Q * R: {Q_dot_R}')\n",
    "print('---')\n",
    "print(f'- Are A and Q * R equal? {np.allclose(A, Q_dot_R)}')"
   ]
  },
  {
   "cell_type": "markdown",
   "id": "b0e53a6f-21b5-4d5e-90f5-6d5ac9aa5933",
   "metadata": {},
   "source": [
    "---\n",
    "\n",
    "<h1 id='reach-me' style='color:#7159c1; border-bottom:3px solid #7159c1; letter-spacing:2px; font-family:JetBrains Mono; font-weight: bold; text-align:left; font-size:240%;padding:0'>📫 | Reach Me</h1>\n",
    "\n",
    "> **Email** - [csfelix08@gmail.com](mailto:csfelix08@gmail.com?)\n",
    "\n",
    "> **Linkedin** - [linkedin.com/in/csfelix/](https://www.linkedin.com/in/csfelix/)\n",
    "\n",
    "> **GitHub:** - [CSFelix](https://github.com/CSFelix)\n",
    "\n",
    "> **Kaggle** - [DSFelix](https://www.kaggle.com/dsfelix)\n",
    "\n",
    "> **Portfolio** - [CSFelix.io](https://csfelix.github.io/)."
   ]
  }
 ],
 "metadata": {
  "kernelspec": {
   "display_name": "Python 3 (ipykernel)",
   "language": "python",
   "name": "python3"
  },
  "language_info": {
   "codemirror_mode": {
    "name": "ipython",
    "version": 3
   },
   "file_extension": ".py",
   "mimetype": "text/x-python",
   "name": "python",
   "nbconvert_exporter": "python",
   "pygments_lexer": "ipython3",
   "version": "3.12.7"
  }
 },
 "nbformat": 4,
 "nbformat_minor": 5
}
