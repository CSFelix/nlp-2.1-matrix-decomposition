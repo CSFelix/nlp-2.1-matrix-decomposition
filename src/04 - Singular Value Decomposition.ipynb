{
 "cells": [
  {
   "cell_type": "markdown",
   "id": "9c22e8ca-9a2b-45c7-ae20-5a0f512b0e59",
   "metadata": {},
   "source": [
    "<center>    \n",
    "    <h1 id='matrix-decomposition-notebook-4' style='color:#7159c1; font-size:350%'>Singular Value Decomposition</h1>\n",
    "    <i style='font-size:125%'>Breaking Matrices into Blocks</i>\n",
    "</center>\n",
    "\n",
    "> **Topics**\n",
    "\n",
    "```\n",
    "- 🛡️ Singular Value Decomposition\n",
    "```"
   ]
  },
  {
   "cell_type": "code",
   "execution_count": 1,
   "id": "f4549530-76d1-4c4e-8bea-a7c92175929b",
   "metadata": {},
   "outputs": [],
   "source": [
    "# ---- Imports ----\n",
    "import numpy as np\n",
    "import scipy\n",
    "from IPython.display import HTML\n",
    "\n",
    "# ---- Constants ----\n",
    "VIDEOS_WIDTH = (600)\n",
    "VIDEOS_PATH = ('./videos')\n",
    "\n",
    "# ---- Functions ----\n",
    "def generateVideoEmbed(path, width):\n",
    "    \"\"\"\n",
    "    Generates a string containing a centered video tag with a specific width and video source.\n",
    "\n",
    "    - Input:\n",
    "        / path: string;\n",
    "        / width: float.\n",
    "\n",
    "    - Output:\n",
    "        / video_tag: string.\n",
    "    \"\"\"\n",
    "    video_tag = f'<center><video width=\"{width}\" autoplay controls loop><source src=\"{path}\" type=\"video/mp4\" />Your browser does not support the video tag 😢</video></center>'\n",
    "    return video_tag"
   ]
  },
  {
   "cell_type": "markdown",
   "id": "a5650366-32f6-48d6-9617-67a1d1805486",
   "metadata": {},
   "source": [
    "<h1 id='0-singular-value-decomposition' style='color:#7159c1; border-bottom:3px solid #7159c1; letter-spacing:2px; font-family:JetBrains Mono; font-weight: bold; text-align:left; font-size:240%;padding:0'>🛡️ | Singular Value Decomposition</h1>\n",
    "\n",
    "`Singular Value Decomposition`, AKA `SVD`, decomposes any matrix $\\mathbf{A}$ into three ones: $\\mathbf{U}$, $\\Sigma$ and $\\mathbf{V}^T$:\n",
    "\n",
    "$$\n",
    "\\mathbf{A} = \\mathbf{U} \\cdot \\Sigma \\cdot \\mathbf{V}^T\n",
    "$$\n",
    "\n",
    "where:\n",
    "\n",
    "- **$\\mathbf{A}$** - `Any Matrix`;\n",
    "\n",
    "- **$\\mathbf{U}$** - `Orthogonal Matrix`;\n",
    "\n",
    "- **$\\Sigma$** - `Rectangular, Diagonal Matrix`;\n",
    "\n",
    "- **$\\mathbf{V}^T$** - `Orthogonal Matrix`.\n",
    "\n",
    "\n",
    "In order to explain this decomposition step-by-step, let's go to a hands-on exercise!!"
   ]
  },
  {
   "cell_type": "markdown",
   "id": "5353338c-1685-4eef-b06b-5163d0475eb2",
   "metadata": {},
   "source": [
    "Consider the matrix $\\mathbf{A}$:\n",
    "\n",
    "$$\n",
    "\\mathbf{A} = \\begin{bmatrix}\n",
    "    1 & 2 & 3 \\\\\n",
    "    3 & 2 & 1 \\\\\n",
    "    2 & 3 & 1\n",
    "\\end{bmatrix}\n",
    "$$\n",
    "\n",
    "---\n",
    "\n",
    "**- Step 1) Calculate the $\\mathbf{A}^T$ and then $\\mathbf{A} \\cdot \\mathbf{A}^T$ to get the `Simmetric Left Matrix` ($\\mathbf{SL}$) and then $\\mathbf{A}^T \\cdot \\mathbf{A}$ to get the `Simmetric Right Matrix` ($\\mathbf{SR}$):**\n",
    "\n",
    "$$\n",
    "\\begin{array}\n",
    "    \\mathbf{A}^T = \\begin{bmatrix} 1 & 3 & 2 \\\\ 2 & 2 & 3 \\\\ 3 & 1 & 1 \\end{bmatrix} \\\\ \\\\\n",
    "    \\mathbf{SL} = \\mathbf{A} \\cdot \\mathbf{A}^T = \\begin{bmatrix} 14 & 10 & 11 \\\\ 10 & 14 & 13 \\\\ 11 & 13 & 14 \\end{bmatrix} \\\\ \\\\\n",
    "    \\mathbf{SR} = \\mathbf{A}^T \\cdot \\mathbf{A} = \\begin{bmatrix} 14 & 14 & 8 \\\\ 14 & 17 & 11 \\\\ 8 & 11 & 11 \\end{bmatrix}\n",
    "\\end{array}\n",
    "$$"
   ]
  },
  {
   "cell_type": "markdown",
   "id": "34e5028c-9654-4e76-bde5-f3393a1fe2c6",
   "metadata": {},
   "source": [
    "---\n",
    "\n",
    "**- Step 2) Calculate the Eigenvectors, Eigenvalues and Singular Values of $\\mathbf{SL}$ and $\\mathbf{SR}$:**\n",
    "\n",
    "In SVD, the Eigenvectors of $\\mathbf{SL}$ and $\\mathbf{SR}$ are called `Singular Vectors`!! After calculating the Eigenvalues, we must sort them in descending order and, consequently, sort the Eigenvectors accordingly to the rearrangements applied to teh Eigenvalues. For instance, if the first and second Eigenvalues of $\\mathbf{SR}$ have gotten swapped, we must do the same to the Eigenvectors of $\\mathbf{SR}$.\n",
    "\n",
    "Also, the Eigenvalues ($\\lambda$) of $\\mathbf{SL}$ and $\\mathbf{SR}$ are the same, so the first Eigenvalue of $\\mathbf{SL}$ is equals to the first Eigenvalue of $\\mathbf{SR}$, the second is equals to the second and so on...\n",
    "\n",
    "After calculating the Eigenvalues, we can get the `Singular Values` by square rooting each Eigenvalue:\n",
    "\n",
    "$$\n",
    "\\begin{array}\n",
    "    \\text{Singular Values:} \\\\ \\\\\n",
    "    \\sigma_1 = \\sqrt{\\lambda_1} \\\\ \\\\\n",
    "    \\sigma_2 = \\sqrt{\\lambda_2} \\\\ \\\\\n",
    "    \\sigma_3 = \\sqrt{\\lambda_3}\n",
    "\\end{array}\n",
    "$$"
   ]
  },
  {
   "cell_type": "markdown",
   "id": "11cade86-25d5-49ef-8067-a8d3e8af4f6b",
   "metadata": {},
   "source": [
    "---\n",
    "\n",
    "**- Step 3) Create the matrices $\\mathbf{U}$, $\\Sigma$ and $\\mathbf{V}^T$:**\n",
    "\n",
    "$\\mathbf{U}$ consists of a matrix containing the Singular Vectors of $\\mathbf{SL}$ as the columns; $\\Sigma$ consists of a diagonal matrix containing the Singular Values as the diagonal values; and $\\mathbf{V}^T$ consists of a transposed matrix containing the Singular Vectors of $\\mathbf{SR}$ as the rows. Then:\n",
    "\n",
    "$$\n",
    "\\begin{array}\n",
    "    \\mathbf{U} = \\begin{bmatrix}\n",
    "           |         &    |     &    |    \\\\\n",
    "        \\vec{u1}     & \\vec{u2} & \\vec{u3} \\\\\n",
    "        |         &    |     &    |\n",
    "    \\end{bmatrix}\n",
    "    \\\\ \\\\\n",
    "    \\Sigma = \\begin{bmatrix}\n",
    "        \\sigma_1 &    0     &    0     \\\\\n",
    "            0    & \\sigma_2 &    0     \\\\\n",
    "            0    &    0     & \\sigma_3\n",
    "    \\end{bmatrix}\n",
    "    \\\\ \\\\\n",
    "    \\mathbf{V}^T = \\begin{bmatrix}\n",
    "        - & \\vec{v1} & - \\\\\n",
    "        - & \\vec{v2} & - \\\\\n",
    "        - & \\vec{v3} & - \\\\\n",
    "    \\end{bmatrix}\n",
    "\\end{array}\n",
    "$$"
   ]
  },
  {
   "cell_type": "markdown",
   "id": "51aa395e-c2ab-44d1-9e77-9d75dcbdf950",
   "metadata": {},
   "source": [
    "---\n",
    "\n",
    "And done!! Our matrix $\\mathbf{A}$ has just been decomposed into a `Orthogonal Matrix` ($\\mathbf{U}$), a `Rectangular, Diagonal Matrix` ($\\Sigma$) and a `Orthogonal Matrix` ($\\mathbf{V}^T$):\n",
    "\n",
    "$$\n",
    "\\begin{array}\n",
    "    \\mathbf{A} = \\mathbf{U} \\cdot \\Sigma \\cdot \\mathbf{V}^T \\\\ \\\\\n",
    "    \\big\\downarrow \\\\ \\\\\n",
    "    \\begin{bmatrix}\n",
    "        1 & 2 & 3 \\\\\n",
    "        3 & 2 & 1 \\\\\n",
    "        2 & 3 & 1\n",
    "    \\end{bmatrix} =\n",
    "    \\begin{bmatrix}\n",
    "           |         &    |     &    |    \\\\\n",
    "        \\vec{u1}     & \\vec{u2} & \\vec{u3} \\\\\n",
    "        |         &    |     &    |\n",
    "    \\end{bmatrix}\n",
    "    \\cdot\n",
    "    \\begin{bmatrix}\n",
    "        \\sigma_1 &    0     &    0     \\\\\n",
    "            0    & \\sigma_2 &    0     \\\\\n",
    "            0    &    0     & \\sigma_3\n",
    "    \\end{bmatrix}\n",
    "    \\cdot\n",
    "    \\begin{bmatrix}\n",
    "        - & \\vec{v1} & - \\\\\n",
    "        - & \\vec{v2} & - \\\\\n",
    "        - & \\vec{v3} & - \\\\\n",
    "    \\end{bmatrix}\n",
    "\\end{array}\n",
    "$$"
   ]
  },
  {
   "cell_type": "code",
   "execution_count": 3,
   "id": "f0bff599-a71f-403b-9d02-8a88a6da5257",
   "metadata": {},
   "outputs": [
    {
     "data": {
      "text/html": [
       "<center><video width=\"600\" autoplay controls loop><source src=\"./videos/04-SVDDecomposition.mp4\" type=\"video/mp4\" />Your browser does not support the video tag 😢</video></center>"
      ],
      "text/plain": [
       "<IPython.core.display.HTML object>"
      ]
     },
     "execution_count": 3,
     "metadata": {},
     "output_type": "execute_result"
    }
   ],
   "source": [
    "# ---- Singular Value Decomposition: Visualization ----\n",
    "HTML(generateVideoEmbed(f'{VIDEOS_PATH}/04-SVDDecomposition.mp4', VIDEOS_WIDTH))"
   ]
  },
  {
   "cell_type": "code",
   "execution_count": 9,
   "id": "3bacbfac-7c3d-45e9-826e-ad9fa9043792",
   "metadata": {},
   "outputs": [
    {
     "name": "stdout",
     "output_type": "stream",
     "text": [
      "- A: [[1 2 3]\n",
      " [3 2 1]\n",
      " [2 3 1]]\n",
      "---\n",
      "- U * Σ * VT: [[1. 2. 3.]\n",
      " [3. 2. 1.]\n",
      " [2. 3. 1.]]\n",
      "---\n",
      "- Are A and U * Σ * VT Equal? True\n"
     ]
    }
   ],
   "source": [
    "# ---- Singular Value Decomposition ----\n",
    "A = np.matrix([[1, 2, 3], [3, 2, 1], [2, 3, 1]])\n",
    "U, SIGMA, VT = scipy.linalg.svd(A)\n",
    "SIGMA = np.diag(SIGMA)\n",
    "U_dot_SIGMA_dot_VT = U @ SIGMA @ VT\n",
    "\n",
    "print(f'- A: {A}')\n",
    "print('---')\n",
    "print(f'- U * Σ * VT: {U_dot_SIGMA_dot_VT}')\n",
    "print('---')\n",
    "print(f'- Are A and U * Σ * VT Equal? {np.allclose(A, U_dot_SIGMA_dot_VT)}')"
   ]
  },
  {
   "cell_type": "markdown",
   "id": "a4c460f8-c3fc-4825-b00a-6d0c8569fd1f",
   "metadata": {},
   "source": [
    "---\n",
    "\n",
    "<h1 id='reach-me' style='color:#7159c1; border-bottom:3px solid #7159c1; letter-spacing:2px; font-family:JetBrains Mono; font-weight: bold; text-align:left; font-size:240%;padding:0'>📫 | Reach Me</h1>\n",
    "\n",
    "> **Email** - [csfelix08@gmail.com](mailto:csfelix08@gmail.com?)\n",
    "\n",
    "> **Linkedin** - [linkedin.com/in/csfelix/](https://www.linkedin.com/in/csfelix/)\n",
    "\n",
    "> **GitHub:** - [CSFelix](https://github.com/CSFelix)\n",
    "\n",
    "> **Kaggle** - [DSFelix](https://www.kaggle.com/dsfelix)\n",
    "\n",
    "> **Portfolio** - [CSFelix.io](https://csfelix.github.io/)."
   ]
  }
 ],
 "metadata": {
  "kernelspec": {
   "display_name": "Python 3 (ipykernel)",
   "language": "python",
   "name": "python3"
  },
  "language_info": {
   "codemirror_mode": {
    "name": "ipython",
    "version": 3
   },
   "file_extension": ".py",
   "mimetype": "text/x-python",
   "name": "python",
   "nbconvert_exporter": "python",
   "pygments_lexer": "ipython3",
   "version": "3.12.7"
  }
 },
 "nbformat": 4,
 "nbformat_minor": 5
}
