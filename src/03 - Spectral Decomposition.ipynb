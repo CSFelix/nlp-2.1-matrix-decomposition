{
 "cells": [
  {
   "cell_type": "markdown",
   "id": "b8981975-bf5b-43bb-8fab-e2b1d43cbdcf",
   "metadata": {},
   "source": [
    "<center>    \n",
    "    <h1 id='matrix-decomposition-notebook-3' style='color:#7159c1; font-size:350%'>Spectral Decomposition</h1>\n",
    "    <i style='font-size:125%'>Breaking Matrices into Blocks</i>\n",
    "</center>\n",
    "\n",
    "> **Topics**\n",
    "\n",
    "```\n",
    "- 🛡️ Spectral Decomposition\n",
    "```"
   ]
  },
  {
   "cell_type": "code",
   "execution_count": 1,
   "id": "01ff8366-791d-4b50-ba91-e2168b39ec35",
   "metadata": {},
   "outputs": [],
   "source": [
    "# ---- Imports ----\n",
    "import numpy as np\n",
    "import scipy\n",
    "from IPython.display import HTML\n",
    "\n",
    "# ---- Constants ----\n",
    "VIDEOS_WIDTH = (600)\n",
    "VIDEOS_PATH = ('./videos')\n",
    "\n",
    "# ---- Functions ----\n",
    "def generateVideoEmbed(path, width):\n",
    "    \"\"\"\n",
    "    Generates a string containing a centered video tag with a specific width and video source.\n",
    "\n",
    "    - Input:\n",
    "        / path: string;\n",
    "        / width: float.\n",
    "\n",
    "    - Output:\n",
    "        / video_tag: string.\n",
    "    \"\"\"\n",
    "    video_tag = f'<center><video width=\"{width}\" autoplay controls loop><source src=\"{path}\" type=\"video/mp4\" />Your browser does not support the video tag 😢</video></center>'\n",
    "    return video_tag"
   ]
  },
  {
   "cell_type": "markdown",
   "id": "8cc7cfc2-a4f0-4b06-bd00-2bb2ac00ef8f",
   "metadata": {},
   "source": [
    "<h1 id='0-spectral-decomposition' style='color:#7159c1; border-bottom:3px solid #7159c1; letter-spacing:2px; font-family:JetBrains Mono; font-weight: bold; text-align:left; font-size:240%;padding:0'>🛡️ | Spectral Decomposition</h1>\n",
    "\n",
    "`Spectral Decomposition`, AKA `Eigen Decomposition`, decomposes any matrix $\\mathbf{A}$ into three ones: $\\mathbf{Q}$, $\\Lambda$ and $\\mathbf{Q}^T$:\n",
    "\n",
    "$$\n",
    "\\mathbf{A} = \\mathbf{Q} \\cdot \\Lambda \\cdot \\mathbf{Q}^T\n",
    "$$\n",
    "\n",
    "where:\n",
    "\n",
    "- **$\\mathbf{A}$** - `Square, Simmetric Matrix`;\n",
    "\n",
    "- **$\\mathbf{Q}$** - `Orthogonal Matrix`;\n",
    "\n",
    "- **$\\Lambda$** - `Diagonal Matrix`;\n",
    "\n",
    "- **$\\mathbf{Q}^T$** - `Orthogonal Matrix`.\n",
    "\n",
    "\n",
    "In order to explain this decomposition step-by-step, let's go to a hands-on exercise!!"
   ]
  },
  {
   "cell_type": "code",
   "execution_count": 2,
   "id": "bbea4ae9-30c8-4934-81b2-e294ae51f15a",
   "metadata": {},
   "outputs": [
    {
     "data": {
      "text/html": [
       "<center><video width=\"600\" autoplay controls loop><source src=\"./videos/03-SpectralDecomposition.mp4\" type=\"video/mp4\" />Your browser does not support the video tag 😢</video></center>"
      ],
      "text/plain": [
       "<IPython.core.display.HTML object>"
      ]
     },
     "execution_count": 2,
     "metadata": {},
     "output_type": "execute_result"
    }
   ],
   "source": [
    "# ---- Spectral Decomposition: Visualization ----\n",
    "HTML(generateVideoEmbed(f'{VIDEOS_PATH}/03-SpectralDecomposition.mp4', VIDEOS_WIDTH))"
   ]
  },
  {
   "cell_type": "code",
   "execution_count": 15,
   "id": "31eefd16-e0f3-43ea-9230-a3890e9be2c5",
   "metadata": {},
   "outputs": [
    {
     "name": "stdout",
     "output_type": "stream",
     "text": [
      "- A: [[4 2]\n",
      " [2 4]]\n",
      "---\n",
      "- Q * Λ * QT: [[4.+0.j 2.+0.j]\n",
      " [2.+0.j 4.+0.j]]\n",
      "---\n",
      "- Are A and Q * R equal? True\n"
     ]
    }
   ],
   "source": [
    "# ---- Spectral Decomposition ----\n",
    "A = np.matrix([[4, 2], [2, 4]])\n",
    "\n",
    "eigenvalues, eigenvectors = scipy.linalg.eig(A)\n",
    "Q = np.matrix([*eigenvectors])\n",
    "LAMB = np.diag(eigenvalues)\n",
    "QT = Q.T\n",
    "\n",
    "Q_dot_LAMB_dot_QT = Q @ LAMB @ QT\n",
    "\n",
    "print(f'- A: {A}')\n",
    "print('---')\n",
    "print(f'- Q * Λ * QT: {Q_dot_LAMB_dot_QT}')\n",
    "print('---')\n",
    "print(f'- Are A and Q * R equal? {np.allclose(A, Q_dot_LAMB_dot_QT)}')"
   ]
  },
  {
   "cell_type": "markdown",
   "id": "bb133daf-1274-41b5-86d0-4f1ef7e14936",
   "metadata": {},
   "source": [
    "---\n",
    "\n",
    "<h1 id='reach-me' style='color:#7159c1; border-bottom:3px solid #7159c1; letter-spacing:2px; font-family:JetBrains Mono; font-weight: bold; text-align:left; font-size:240%;padding:0'>📫 | Reach Me</h1>\n",
    "\n",
    "> **Email** - [csfelix08@gmail.com](mailto:csfelix08@gmail.com?)\n",
    "\n",
    "> **Linkedin** - [linkedin.com/in/csfelix/](https://www.linkedin.com/in/csfelix/)\n",
    "\n",
    "> **GitHub:** - [CSFelix](https://github.com/CSFelix)\n",
    "\n",
    "> **Kaggle** - [DSFelix](https://www.kaggle.com/dsfelix)\n",
    "\n",
    "> **Portfolio** - [CSFelix.io](https://csfelix.github.io/)."
   ]
  }
 ],
 "metadata": {
  "kernelspec": {
   "display_name": "Python 3 (ipykernel)",
   "language": "python",
   "name": "python3"
  },
  "language_info": {
   "codemirror_mode": {
    "name": "ipython",
    "version": 3
   },
   "file_extension": ".py",
   "mimetype": "text/x-python",
   "name": "python",
   "nbconvert_exporter": "python",
   "pygments_lexer": "ipython3",
   "version": "3.12.7"
  }
 },
 "nbformat": 4,
 "nbformat_minor": 5
}
